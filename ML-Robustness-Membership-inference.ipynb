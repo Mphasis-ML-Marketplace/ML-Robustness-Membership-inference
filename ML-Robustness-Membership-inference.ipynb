{
 "cells": [
  {
   "cell_type": "markdown",
   "id": "7b88785b",
   "metadata": {},
   "source": [
    "## ML Robustness: Membership inference \n",
    "\n",
    "The solution identify the robustness of ML model towards Membership inference attack which target to extract information about training data\n",
    "\n",
    "This sample notebook shows you how to attack model and find robustness from AWS Marketplace \n",
    "\n",
    "> **Note**: This is a reference notebook and it cannot run unless you make changes suggested in the notebook.\n",
    "\n",
    "#### Pre-requisites:\n",
    "1. **Note**: This notebook contains elements which render correctly in Jupyter interface. Open this notebook from an Amazon SageMaker Notebook Instance or Amazon SageMaker Studio.\n",
    "1. Ensure that IAM role used has **AmazonSageMakerFullAccess**\n",
    "1. Some hands-on experience using [Amazon SageMaker](https://aws.amazon.com/sagemaker/).\n",
    "1. To use this algorithm successfully, ensure that:\n",
    "    1. Either your IAM role has these three permissions and you have authority to make AWS Marketplace subscriptions in the AWS account used: \n",
    "        1. **aws-marketplace:ViewSubscriptions**\n",
    "        1. **aws-marketplace:Unsubscribe**\n",
    "        1. **aws-marketplace:Subscribe**  \n",
    "    2. or your AWS account has a subscription to ML Robustness: Poison attack. \n",
    "\n",
    "#### Contents:\n",
    "1. [Subscribe to the algorithm](#1.-Subscribe-to-the-algorithm)\n",
    "1. [Prepare dataset](#2.-Prepare-dataset)\n",
    "\t1. [Dataset format expected by the algorithm](#A.-Dataset-format-expected-by-the-algorithm)\n",
    "\t1. [Configure dataset](#B.-Configure-dataset)\n",
    "\t1. [Upload datasets to Amazon S3](#C.-Upload-datasets-to-Amazon-S3)\n",
    "1. [Execute optimization model](#3.-Execute-optimization-model)\n",
    "\t1. [Set up environment](#3.1-Set-up-environment)\n",
    "\t1. [Execute model](#3.2-Execute-model)\n",
    "    1. [Visualize Output](#3.3-Inspect-the-Output-in-S3)\n",
    "1. [Clean-up](#4.-Clean-up)\n",
    "\t1. [Unsubscribe to the listing (optional)](#Unsubscribe-to-the-listing-(optional))\n",
    "\n",
    "\n",
    "#### Usage instructions\n",
    "You can run this notebook one cell at a time (By using Shift+Enter for running a cell)."
   ]
  },
  {
   "cell_type": "markdown",
   "id": "a358cdd4",
   "metadata": {},
   "source": [
    "### 1. Subscribe to the algorithm"
   ]
  },
  {
   "cell_type": "markdown",
   "id": "c03c91e7",
   "metadata": {},
   "source": [
    "To subscribe to the algorithm:\n",
    "1. Open the algorithm listing page **ML Robustness: Membership inference**\n",
    "1. On the AWS Marketplace listing,  click on **Continue to subscribe** button.\n",
    "1. On the **Subscribe to this software** page, review and click on **\"Accept Offer\"** if you agree with EULA, pricing, and support terms. \n",
    "1. Once you click on **Continue to configuration button** and then choose a **region**, you will see a **Product Arn**. This is the algorithm ARN that you need to specify while training a custom ML model. Copy the ARN corresponding to your region and specify the same in the following cell."
   ]
  },
  {
   "cell_type": "code",
   "execution_count": 1,
   "id": "420df0cf",
   "metadata": {},
   "outputs": [],
   "source": [
    "algo_arn = \"mia-bbattack\""
   ]
  },
  {
   "cell_type": "markdown",
   "id": "e2637873",
   "metadata": {},
   "source": [
    "### 2. Prepare dataset"
   ]
  },
  {
   "cell_type": "code",
   "execution_count": 2,
   "id": "73d562a3",
   "metadata": {},
   "outputs": [],
   "source": [
    "import os\n",
    "import json \n",
    "import uuid\n",
    "import boto3\n",
    "import pickle\n",
    "import base64\n",
    "import tarfile\n",
    "from pprint import pprint\n",
    "\n",
    "import numpy as np\n",
    "import pandas as pd\n",
    "\n",
    "import urllib.request\n",
    "from urllib.parse import urlparse\n",
    "\n",
    "import sagemaker as sage\n",
    "from sagemaker import ModelPackage\n",
    "from sagemaker import get_execution_role"
   ]
  },
  {
   "cell_type": "markdown",
   "id": "0bf7b52e",
   "metadata": {},
   "source": [
    "#### A. Dataset format expected by the algorithm"
   ]
  },
  {
   "cell_type": "markdown",
   "id": "0f3a9176",
   "metadata": {},
   "source": [
    "The algorithm requires data in the format as described for best results:\n",
    "* Input File name should be data.zip, model.pkl, parameters.json\n",
    "* For detailed instructions, please refer sample notebook and algorithm input details"
   ]
  },
  {
   "cell_type": "markdown",
   "id": "388d0040",
   "metadata": {},
   "source": [
    "#### B. Configure dataset"
   ]
  },
  {
   "cell_type": "code",
   "execution_count": 3,
   "id": "f577a998",
   "metadata": {},
   "outputs": [],
   "source": [
    "training_dataset=\"Input/data.zip\""
   ]
  },
  {
   "cell_type": "markdown",
   "id": "eba1ced0",
   "metadata": {},
   "source": [
    "#### C. Upload datasets to Amazon S3"
   ]
  },
  {
   "cell_type": "code",
   "execution_count": 4,
   "id": "00d9117d",
   "metadata": {},
   "outputs": [],
   "source": [
    "role = get_execution_role()"
   ]
  },
  {
   "cell_type": "code",
   "execution_count": null,
   "id": "15e8f121",
   "metadata": {},
   "outputs": [],
   "source": [
    "sagemaker_session = sage.Session()\n",
    "\n",
    "bucket = sagemaker_session.default_bucket()\n",
    "bucket"
   ]
  },
  {
   "cell_type": "code",
   "execution_count": null,
   "id": "c96cc75b",
   "metadata": {},
   "outputs": [],
   "source": [
    "# training input location\n",
    "common_prefix = \"mia-bbattack\"\n",
    "training_input_prefix = common_prefix + \"/training-input-data\"\n",
    "TRAINING_WORKDIR = \"input\" #Input directory in Jupyter Server\n",
    "training_input = sagemaker_session.upload_data(TRAINING_WORKDIR, key_prefix=training_input_prefix) #uploads data from jupyter server to S3\n",
    "print(\"Training input uploaded to \" + training_input)"
   ]
  },
  {
   "cell_type": "markdown",
   "id": "46de1af5",
   "metadata": {},
   "source": [
    "## 3. Execute the training process"
   ]
  },
  {
   "cell_type": "markdown",
   "id": "bab794b9",
   "metadata": {},
   "source": [
    "Now that dataset is available in an accessible Amazon S3 bucket, we are ready to execute a training pipeline to get clean sentiment class labels using clean-sentiment-classification-labels Algorithm. "
   ]
  },
  {
   "cell_type": "markdown",
   "id": "ae0b703d",
   "metadata": {},
   "source": [
    "### 3.1 Set up environment"
   ]
  },
  {
   "cell_type": "code",
   "execution_count": 7,
   "id": "3334a061",
   "metadata": {},
   "outputs": [],
   "source": [
    "output_location = 's3://{}/mia-bbattack/{}'.format(bucket, 'Output')"
   ]
  },
  {
   "cell_type": "code",
   "execution_count": null,
   "id": "5403b237",
   "metadata": {},
   "outputs": [],
   "source": [
    "output_location"
   ]
  },
  {
   "cell_type": "markdown",
   "id": "2ec49671",
   "metadata": {},
   "source": [
    "### 3.2 Execute model"
   ]
  },
  {
   "cell_type": "markdown",
   "id": "2b36111e",
   "metadata": {},
   "source": [
    "For information on creating an `Estimator` object, see [documentation](https://sagemaker.readthedocs.io/en/stable/api/training/estimators.html)"
   ]
  },
  {
   "cell_type": "code",
   "execution_count": 9,
   "id": "91c1b257",
   "metadata": {},
   "outputs": [],
   "source": [
    "training_instance_type=\"ml.m5.4xlarge\""
   ]
  },
  {
   "cell_type": "code",
   "execution_count": 10,
   "id": "6b734f3b",
   "metadata": {
    "scrolled": true
   },
   "outputs": [
    {
     "name": "stdout",
     "output_type": "stream",
     "text": [
      "2023-02-10 07:22:16 Starting - Starting the training job...\n",
      "2023-02-10 07:22:32 Starting - Preparing the instances for trainingProfilerReport-1676013736: InProgress\n",
      "......\n",
      "2023-02-10 07:23:46 Downloading - Downloading input data\n",
      "2023-02-10 07:23:46 Training - Downloading the training image...............\n",
      "2023-02-10 07:26:12 Training - Training image download completed. Training in progress......\u001b[34m2023-02-10 07:26:53.889811: W tensorflow/stream_executor/platform/default/dso_loader.cc:64] Could not load dynamic library 'libcudart.so.11.0'; dlerror: libcudart.so.11.0: cannot open shared object file: No such file or directory\u001b[0m\n",
      "\u001b[34m2023-02-10 07:26:53.889839: I tensorflow/stream_executor/cuda/cudart_stub.cc:29] Ignore above cudart dlerror if you do not have a GPU set up on your machine.\u001b[0m\n",
      "\u001b[34mStarting the train function.\u001b[0m\n",
      "\u001b[34m/usr/local/lib/python3.6/dist-packages/sklearn/base.py:315: UserWarning: Trying to unpickle estimator DecisionTreeClassifier from version 1.0.2 when using version 0.24.2. This might lead to breaking code or invalid results. Use at your own risk.\n",
      "  UserWarning)\u001b[0m\n",
      "\u001b[34m/usr/local/lib/python3.6/dist-packages/sklearn/base.py:315: UserWarning: Trying to unpickle estimator RandomForestClassifier from version 1.0.2 when using version 0.24.2. This might lead to breaking code or invalid results. Use at your own risk.\n",
      "  UserWarning)\u001b[0m\n",
      "\u001b[34m----------iteration for 10% data-------------\u001b[0m\n",
      "\u001b[34m----------------Training Neural network attack model---------------\u001b[0m\n",
      "\u001b[34mMembers Accuracy: 0.7130\u001b[0m\n",
      "\u001b[34mNon Members Accuracy 0.5633\u001b[0m\n",
      "\u001b[34mAttack Accuracy 0.6381\u001b[0m\n",
      "\u001b[34m-----------Training random forest attack model-------------\u001b[0m\n",
      "\u001b[34mMembers Accuracy: 0.8225\u001b[0m\n",
      "\u001b[34mNon Members Accuracy 0.4769\u001b[0m\n",
      "\u001b[34mAttack Accuracy 0.6497\u001b[0m\n",
      "\u001b[34m-------------------Training grdient boosting attack model---------------\u001b[0m\n",
      "\u001b[34mMembers Accuracy: 0.8225\u001b[0m\n",
      "\u001b[34mNon Members Accuracy 0.5201\u001b[0m\n",
      "\u001b[34mAttack Accuracy 0.6713\u001b[0m\n",
      "\u001b[34m----------iteration for 20% data-------------\u001b[0m\n",
      "\u001b[34m----------------Training Neural network attack model---------------\u001b[0m\n",
      "\u001b[34mMembers Accuracy: 0.7160\u001b[0m\n",
      "\u001b[34mNon Members Accuracy 0.5725\u001b[0m\n",
      "\u001b[34mAttack Accuracy 0.6443\u001b[0m\n",
      "\u001b[34m-----------Training random forest attack model-------------\u001b[0m\n",
      "\u001b[34mMembers Accuracy: 0.7608\u001b[0m\n",
      "\u001b[34mNon Members Accuracy 0.5448\u001b[0m\n",
      "\u001b[34mAttack Accuracy 0.6528\u001b[0m\n",
      "\u001b[34m-------------------Training grdient boosting attack model---------------\u001b[0m\n",
      "\u001b[34mMembers Accuracy: 0.7809\u001b[0m\n",
      "\u001b[34mNon Members Accuracy 0.5710\u001b[0m\n",
      "\u001b[34mAttack Accuracy 0.6759\u001b[0m\n",
      "\u001b[34m----------iteration for 30% data-------------\u001b[0m\n",
      "\u001b[34m----------------Training Neural network attack model---------------\u001b[0m\n",
      "\u001b[34mMembers Accuracy: 0.7639\u001b[0m\n",
      "\u001b[34mNon Members Accuracy 0.5586\u001b[0m\n",
      "\u001b[34mAttack Accuracy 0.6613\u001b[0m\n",
      "\u001b[34m-----------Training random forest attack model-------------\u001b[0m\n",
      "\u001b[34mMembers Accuracy: 0.8056\u001b[0m\n",
      "\u001b[34mNon Members Accuracy 0.5278\u001b[0m\n",
      "\u001b[34mAttack Accuracy 0.6667\u001b[0m\n",
      "\u001b[34m-------------------Training grdient boosting attack model---------------\u001b[0m\n",
      "\u001b[34mMembers Accuracy: 0.7762\u001b[0m\n",
      "\u001b[34mNon Members Accuracy 0.5725\u001b[0m\n",
      "\u001b[34mAttack Accuracy 0.6744\u001b[0m\n",
      "\u001b[34m----------iteration for 40% data-------------\u001b[0m\n",
      "\u001b[34m----------------Training Neural network attack model---------------\u001b[0m\n",
      "\u001b[34mMembers Accuracy: 0.8272\u001b[0m\n",
      "\u001b[34mNon Members Accuracy 0.4599\u001b[0m\n",
      "\u001b[34mAttack Accuracy 0.6435\u001b[0m\n",
      "\u001b[34m-----------Training random forest attack model-------------\u001b[0m\n",
      "\u001b[34mMembers Accuracy: 0.7963\u001b[0m\n",
      "\u001b[34mNon Members Accuracy 0.5324\u001b[0m\n",
      "\u001b[34mAttack Accuracy 0.6644\u001b[0m\n",
      "\u001b[34m-------------------Training grdient boosting attack model---------------\u001b[0m\n",
      "\u001b[34mMembers Accuracy: 0.7762\u001b[0m\n",
      "\u001b[34mNon Members Accuracy 0.5895\u001b[0m\n",
      "\u001b[34mAttack Accuracy 0.6829\u001b[0m\n",
      "\u001b[34m----------iteration for 50% data-------------\u001b[0m\n",
      "\u001b[34m----------------Training Neural network attack model---------------\u001b[0m\n",
      "\u001b[34mMembers Accuracy: 0.7006\u001b[0m\n",
      "\u001b[34mNon Members Accuracy 0.6235\u001b[0m\n",
      "\u001b[34mAttack Accuracy 0.6620\u001b[0m\n",
      "\u001b[34m-----------Training random forest attack model-------------\u001b[0m\n",
      "\u001b[34mMembers Accuracy: 0.7824\u001b[0m\n",
      "\u001b[34mNon Members Accuracy 0.5448\u001b[0m\n",
      "\u001b[34mAttack Accuracy 0.6636\u001b[0m\n",
      "\u001b[34m-------------------Training grdient boosting attack model---------------\u001b[0m\n",
      "\u001b[34mMembers Accuracy: 0.7809\u001b[0m\n",
      "\u001b[34mNon Members Accuracy 0.5710\u001b[0m\n",
      "\u001b[34mAttack Accuracy 0.6759\u001b[0m\n",
      "\u001b[34m----------iteration for 60% data-------------\u001b[0m\n",
      "\u001b[34m----------------Training Neural network attack model---------------\u001b[0m\n",
      "\u001b[34mMembers Accuracy: 0.7253\u001b[0m\n",
      "\u001b[34mNon Members Accuracy 0.6049\u001b[0m\n",
      "\u001b[34mAttack Accuracy 0.6651\u001b[0m\n",
      "\u001b[34m-----------Training random forest attack model-------------\u001b[0m\n",
      "\u001b[34mMembers Accuracy: 0.7870\u001b[0m\n",
      "\u001b[34mNon Members Accuracy 0.5494\u001b[0m\n",
      "\u001b[34mAttack Accuracy 0.6682\u001b[0m\n",
      "\u001b[34m-------------------Training grdient boosting attack model---------------\u001b[0m\n",
      "\u001b[34mMembers Accuracy: 0.7608\u001b[0m\n",
      "\u001b[34mNon Members Accuracy 0.6003\u001b[0m\n",
      "\u001b[34mAttack Accuracy 0.6806\u001b[0m\n",
      "\u001b[34m----------iteration for 70% data-------------\u001b[0m\n",
      "\u001b[34m----------------Training Neural network attack model---------------\u001b[0m\n",
      "\u001b[34mMembers Accuracy: 0.7546\u001b[0m\n",
      "\u001b[34mNon Members Accuracy 0.6019\u001b[0m\n",
      "\u001b[34mAttack Accuracy 0.6782\u001b[0m\n",
      "\u001b[34m-----------Training random forest attack model-------------\u001b[0m\n",
      "\u001b[34mMembers Accuracy: 0.7315\u001b[0m\n",
      "\u001b[34mNon Members Accuracy 0.6327\u001b[0m\n",
      "\u001b[34mAttack Accuracy 0.6821\u001b[0m\n",
      "\u001b[34m-------------------Training grdient boosting attack model---------------\u001b[0m\n",
      "\u001b[34mMembers Accuracy: 0.7176\u001b[0m\n",
      "\u001b[34mNon Members Accuracy 0.6667\u001b[0m\n",
      "\u001b[34mAttack Accuracy 0.6921\u001b[0m\n",
      "\u001b[34m----------iteration for 80% data-------------\u001b[0m\n",
      "\u001b[34m----------------Training Neural network attack model---------------\u001b[0m\n",
      "\u001b[34mMembers Accuracy: 0.7145\u001b[0m\n",
      "\u001b[34mNon Members Accuracy 0.6312\u001b[0m\n",
      "\u001b[34mAttack Accuracy 0.6728\u001b[0m\n",
      "\u001b[34m-----------Training random forest attack model-------------\u001b[0m\n",
      "\u001b[34mMembers Accuracy: 0.7207\u001b[0m\n",
      "\u001b[34mNon Members Accuracy 0.6281\u001b[0m\n",
      "\u001b[34mAttack Accuracy 0.6744\u001b[0m\n",
      "\u001b[34m-------------------Training grdient boosting attack model---------------\u001b[0m\n",
      "\u001b[34mMembers Accuracy: 0.7145\u001b[0m\n",
      "\u001b[34mNon Members Accuracy 0.6698\u001b[0m\n",
      "\u001b[34mAttack Accuracy 0.6921\u001b[0m\n",
      "\u001b[34m----------iteration for 90% data-------------\u001b[0m\n",
      "\u001b[34m----------------Training Neural network attack model---------------\u001b[0m\n",
      "\n",
      "2023-02-10 07:30:19 Uploading - Uploading generated training model\u001b[34mMembers Accuracy: 0.8627\u001b[0m\n",
      "\u001b[34mNon Members Accuracy 0.4475\u001b[0m\n",
      "\u001b[34mAttack Accuracy 0.6551\u001b[0m\n",
      "\u001b[34m-----------Training random forest attack model-------------\u001b[0m\n",
      "\u001b[34mMembers Accuracy: 0.7052\u001b[0m\n",
      "\u001b[34mNon Members Accuracy 0.6435\u001b[0m\n",
      "\u001b[34mAttack Accuracy 0.6744\u001b[0m\n",
      "\u001b[34m-------------------Training grdient boosting attack model---------------\u001b[0m\n",
      "\u001b[34mMembers Accuracy: 0.6991\u001b[0m\n",
      "\u001b[34mNon Members Accuracy 0.6775\u001b[0m\n",
      "\u001b[34mAttack Accuracy 0.6883\u001b[0m\n",
      "\u001b[34mSuccess\u001b[0m\n",
      "\n",
      "2023-02-10 07:30:45 Completed - Training job completed\n",
      "ProfilerReport-1676013736: NoIssuesFound\n",
      "Training seconds: 423\n",
      "Billable seconds: 423\n"
     ]
    }
   ],
   "source": [
    "#Create an estimator object for running a training job\n",
    "estimator = sage.algorithm.AlgorithmEstimator(\n",
    "    algorithm_arn=algo_arn,\n",
    "    base_job_name=\"poisoning-tabular\",\n",
    "    role=role,\n",
    "    train_instance_count=1,\n",
    "    train_instance_type=training_instance_type,\n",
    "    input_mode=\"File\",\n",
    "    output_path=output_location,\n",
    "    sagemaker_session=sagemaker_session,\n",
    "    instance_count=1,\n",
    "    instance_type=training_instance_type\n",
    ")\n",
    "\n",
    "#Run the training job.\n",
    "estimator.fit({\"training\": training_input})"
   ]
  },
  {
   "cell_type": "markdown",
   "id": "300a7e93",
   "metadata": {},
   "source": [
    "See this [blog-post](https://aws.amazon.com/blogs/machine-learning/easily-monitor-and-visualize-metrics-while-training-models-on-amazon-sagemaker/) for more information how to visualize metrics during the process. You can also open the training job from [Amazon SageMaker console](https://console.aws.amazon.com/sagemaker/home?#/jobs/) and monitor the metrics/logs in **Monitor** section."
   ]
  },
  {
   "cell_type": "code",
   "execution_count": null,
   "id": "60058339",
   "metadata": {},
   "outputs": [],
   "source": [
    "#output is available on following path\n",
    "estimator.output_path"
   ]
  },
  {
   "cell_type": "markdown",
   "id": "8d528b2d",
   "metadata": {},
   "source": [
    "## Note: Inferencing is done within training pipeline. Real time inference endpoint/batch transform job is not required."
   ]
  },
  {
   "cell_type": "markdown",
   "id": "e9008b0c",
   "metadata": {},
   "source": [
    "### 3.3 Inspect the Output in S3"
   ]
  },
  {
   "cell_type": "code",
   "execution_count": 12,
   "id": "21e8fc8b",
   "metadata": {},
   "outputs": [],
   "source": [
    "parsed_url = urlparse(estimator.output_path)\n",
    "bucket_name = parsed_url.netloc\n",
    "file_key = parsed_url.path[1:]+'/'+estimator.latest_training_job.job_name+'/output/'+\"model.tar.gz\"\n",
    "\n",
    "s3_client = sagemaker_session.boto_session.client('s3')\n",
    "response = s3_client.get_object(Bucket = sagemaker_session.default_bucket(), Key = file_key)"
   ]
  },
  {
   "cell_type": "code",
   "execution_count": 13,
   "id": "6e7e6429",
   "metadata": {},
   "outputs": [],
   "source": [
    "bucketFolder = estimator.output_path.rsplit('/')[3] +'/Output/'+ estimator.latest_training_job.job_name+'/output/'+\"model.tar.gz\""
   ]
  },
  {
   "cell_type": "code",
   "execution_count": null,
   "id": "5c3e0ab9",
   "metadata": {},
   "outputs": [],
   "source": [
    "bucketFolder"
   ]
  },
  {
   "cell_type": "code",
   "execution_count": 15,
   "id": "8b20f032",
   "metadata": {},
   "outputs": [
    {
     "name": "stdout",
     "output_type": "stream",
     "text": [
      "Output file loaded from bucket\n"
     ]
    },
    {
     "name": "stderr",
     "output_type": "stream",
     "text": [
      "/home/ec2-user/anaconda3/envs/python3/lib/python3.6/site-packages/boto3/compat.py:88: PythonDeprecationWarning: Boto3 will no longer support Python 3.6 starting May 30, 2022. To continue receiving service updates, bug fixes, and security updates please upgrade to Python 3.7 or later. More information can be found here: https://aws.amazon.com/blogs/developer/python-support-policy-updates-for-aws-sdks-and-tools/\n",
      "  warnings.warn(warning, PythonDeprecationWarning)\n"
     ]
    }
   ],
   "source": [
    "s3_conn = boto3.client(\"s3\")\n",
    "bucket_name=bucket\n",
    "with open('output.tar.gz', 'wb') as f:\n",
    "    s3_conn.download_fileobj(bucket_name, bucketFolder, f)\n",
    "    print(\"Output file loaded from bucket\")"
   ]
  },
  {
   "cell_type": "code",
   "execution_count": 16,
   "id": "2188acd8",
   "metadata": {},
   "outputs": [],
   "source": [
    "with tarfile.open('output.tar.gz') as file:\n",
    "    file.extractall('./output')\n",
    "\n",
    "output_path = \"output/\"\n",
    "\n",
    "output = pd.read_csv(\"output/output.csv\")"
   ]
  },
  {
   "cell_type": "code",
   "execution_count": 17,
   "id": "7bbe37e3",
   "metadata": {},
   "outputs": [
    {
     "data": {
      "text/html": [
       "<div>\n",
       "<style scoped>\n",
       "    .dataframe tbody tr th:only-of-type {\n",
       "        vertical-align: middle;\n",
       "    }\n",
       "\n",
       "    .dataframe tbody tr th {\n",
       "        vertical-align: top;\n",
       "    }\n",
       "\n",
       "    .dataframe thead th {\n",
       "        text-align: right;\n",
       "    }\n",
       "</style>\n",
       "<table border=\"1\" class=\"dataframe\">\n",
       "  <thead>\n",
       "    <tr style=\"text-align: right;\">\n",
       "      <th></th>\n",
       "      <th>Percentage Data</th>\n",
       "      <th>Member Accuracy</th>\n",
       "      <th>Non-member Accuracy</th>\n",
       "      <th>Attack Accuracy</th>\n",
       "      <th>Attack Model</th>\n",
       "    </tr>\n",
       "  </thead>\n",
       "  <tbody>\n",
       "    <tr>\n",
       "      <th>0</th>\n",
       "      <td>10</td>\n",
       "      <td>0.822531</td>\n",
       "      <td>0.520062</td>\n",
       "      <td>0.671296</td>\n",
       "      <td>GB</td>\n",
       "    </tr>\n",
       "    <tr>\n",
       "      <th>1</th>\n",
       "      <td>20</td>\n",
       "      <td>0.780864</td>\n",
       "      <td>0.570988</td>\n",
       "      <td>0.675926</td>\n",
       "      <td>GB</td>\n",
       "    </tr>\n",
       "    <tr>\n",
       "      <th>2</th>\n",
       "      <td>30</td>\n",
       "      <td>0.776235</td>\n",
       "      <td>0.572531</td>\n",
       "      <td>0.674383</td>\n",
       "      <td>GB</td>\n",
       "    </tr>\n",
       "    <tr>\n",
       "      <th>3</th>\n",
       "      <td>40</td>\n",
       "      <td>0.776235</td>\n",
       "      <td>0.589506</td>\n",
       "      <td>0.682870</td>\n",
       "      <td>GB</td>\n",
       "    </tr>\n",
       "    <tr>\n",
       "      <th>4</th>\n",
       "      <td>50</td>\n",
       "      <td>0.780864</td>\n",
       "      <td>0.570988</td>\n",
       "      <td>0.675926</td>\n",
       "      <td>GB</td>\n",
       "    </tr>\n",
       "    <tr>\n",
       "      <th>5</th>\n",
       "      <td>60</td>\n",
       "      <td>0.760802</td>\n",
       "      <td>0.600309</td>\n",
       "      <td>0.680556</td>\n",
       "      <td>GB</td>\n",
       "    </tr>\n",
       "    <tr>\n",
       "      <th>6</th>\n",
       "      <td>70</td>\n",
       "      <td>0.717593</td>\n",
       "      <td>0.666667</td>\n",
       "      <td>0.692130</td>\n",
       "      <td>GB</td>\n",
       "    </tr>\n",
       "    <tr>\n",
       "      <th>7</th>\n",
       "      <td>80</td>\n",
       "      <td>0.714506</td>\n",
       "      <td>0.669753</td>\n",
       "      <td>0.692130</td>\n",
       "      <td>GB</td>\n",
       "    </tr>\n",
       "    <tr>\n",
       "      <th>8</th>\n",
       "      <td>90</td>\n",
       "      <td>0.699074</td>\n",
       "      <td>0.677469</td>\n",
       "      <td>0.688272</td>\n",
       "      <td>GB</td>\n",
       "    </tr>\n",
       "  </tbody>\n",
       "</table>\n",
       "</div>"
      ],
      "text/plain": [
       "   Percentage Data  Member Accuracy  Non-member Accuracy  Attack Accuracy  \\\n",
       "0               10         0.822531             0.520062         0.671296   \n",
       "1               20         0.780864             0.570988         0.675926   \n",
       "2               30         0.776235             0.572531         0.674383   \n",
       "3               40         0.776235             0.589506         0.682870   \n",
       "4               50         0.780864             0.570988         0.675926   \n",
       "5               60         0.760802             0.600309         0.680556   \n",
       "6               70         0.717593             0.666667         0.692130   \n",
       "7               80         0.714506             0.669753         0.692130   \n",
       "8               90         0.699074             0.677469         0.688272   \n",
       "\n",
       "  Attack Model  \n",
       "0           GB  \n",
       "1           GB  \n",
       "2           GB  \n",
       "3           GB  \n",
       "4           GB  \n",
       "5           GB  \n",
       "6           GB  \n",
       "7           GB  \n",
       "8           GB  "
      ]
     },
     "execution_count": 17,
     "metadata": {},
     "output_type": "execute_result"
    }
   ],
   "source": [
    "output"
   ]
  },
  {
   "cell_type": "markdown",
   "id": "c0b5fb69",
   "metadata": {},
   "source": [
    "**Inference from output**\n",
    "* The attack accuracy is not increasing with more data which means target model does not give more information about training data\n"
   ]
  },
  {
   "cell_type": "markdown",
   "id": "849babe8",
   "metadata": {},
   "source": [
    "### 4. Clean-up"
   ]
  },
  {
   "cell_type": "markdown",
   "id": "1306ae57",
   "metadata": {},
   "source": [
    "#### Unsubscribe to the listing (optional)"
   ]
  },
  {
   "cell_type": "markdown",
   "id": "2caaec32",
   "metadata": {},
   "source": [
    "If you would like to unsubscribe to the algorithm, follow these steps. Before you cancel the subscription, ensure that you do not have any [deployable model](https://console.aws.amazon.com/sagemaker/home#/models) created from the model package or using the algorithm. Note - You can find this information by looking at the container name associated with the model. \n",
    "\n",
    "**Steps to unsubscribe to product from AWS Marketplace**:\n",
    "1. Navigate to __Machine Learning__ tab on [__Your Software subscriptions page__](https://aws.amazon.com/marketplace/ai/library?productType=ml&ref_=mlmp_gitdemo_indust)\n",
    "2. Locate the listing that you want to cancel the subscription for, and then choose __Cancel Subscription__  to cancel the subscription."
   ]
  },
  {
   "cell_type": "code",
   "execution_count": null,
   "id": "d4a82dd9",
   "metadata": {},
   "outputs": [],
   "source": []
  }
 ],
 "metadata": {
  "kernelspec": {
   "display_name": "conda_python3",
   "language": "python",
   "name": "conda_python3"
  },
  "language_info": {
   "codemirror_mode": {
    "name": "ipython",
    "version": 3
   },
   "file_extension": ".py",
   "mimetype": "text/x-python",
   "name": "python",
   "nbconvert_exporter": "python",
   "pygments_lexer": "ipython3",
   "version": "3.6.13"
  }
 },
 "nbformat": 4,
 "nbformat_minor": 5
}
